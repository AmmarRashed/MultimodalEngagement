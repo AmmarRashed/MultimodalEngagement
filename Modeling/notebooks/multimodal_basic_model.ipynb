{
 "cells": [
  {
   "cell_type": "code",
   "execution_count": 1,
   "id": "2997fabc-3d30-4610-a61d-e5bb667e7b96",
   "metadata": {
    "execution": {
     "iopub.execute_input": "2025-01-09T00:41:53.534788Z",
     "iopub.status.busy": "2025-01-09T00:41:53.534613Z",
     "iopub.status.idle": "2025-01-09T00:41:53.536567Z",
     "shell.execute_reply": "2025-01-09T00:41:53.536328Z",
     "shell.execute_reply.started": "2025-01-09T00:41:53.534775Z"
    }
   },
   "outputs": [],
   "source": [
    "import sys\n",
    "\n",
    "sys.path.append(\"../src\")"
   ]
  },
  {
   "cell_type": "code",
   "execution_count": 5,
   "id": "b9de648d-7b3d-44f9-abb9-c7d4425a55b4",
   "metadata": {
    "execution": {
     "iopub.execute_input": "2025-01-09T00:58:13.095272Z",
     "iopub.status.busy": "2025-01-09T00:58:13.095049Z",
     "iopub.status.idle": "2025-01-09T00:58:13.124372Z",
     "shell.execute_reply": "2025-01-09T00:58:13.123883Z",
     "shell.execute_reply.started": "2025-01-09T00:58:13.095253Z"
    }
   },
   "outputs": [],
   "source": [
    "from experiments.multimodal_experiment import *\n",
    "from utils import *"
   ]
  },
  {
   "cell_type": "code",
   "execution_count": 3,
   "id": "ecbdebf2-e0d4-4ce0-b294-0c80d782c50a",
   "metadata": {
    "execution": {
     "iopub.execute_input": "2025-01-09T00:41:56.088500Z",
     "iopub.status.busy": "2025-01-09T00:41:56.088333Z",
     "iopub.status.idle": "2025-01-09T00:44:50.582205Z",
     "shell.execute_reply": "2025-01-09T00:44:50.581836Z",
     "shell.execute_reply.started": "2025-01-09T00:41:56.088489Z"
    },
    "scrolled": true
   },
   "outputs": [
    {
     "name": "stdout",
     "output_type": "stream",
     "text": [
      "Running Experiment on Fold 0\n",
      "Participant 407 is missing at least one modality (EYE)\n"
     ]
    },
    {
     "data": {
      "application/vnd.jupyter.widget-view+json": {
       "model_id": "",
       "version_major": 2,
       "version_minor": 0
      },
      "text/plain": [
       "  0%|          | 0/24 [00:00<?, ?it/s]"
      ]
     },
     "metadata": {},
     "output_type": "display_data"
    },
    {
     "data": {
      "application/vnd.jupyter.widget-view+json": {
       "model_id": "",
       "version_major": 2,
       "version_minor": 0
      },
      "text/plain": [
       "  0%|          | 0/521 [00:00<?, ?it/s]"
      ]
     },
     "metadata": {},
     "output_type": "display_data"
    },
    {
     "data": {
      "application/vnd.jupyter.widget-view+json": {
       "model_id": "",
       "version_major": 2,
       "version_minor": 0
      },
      "text/plain": [
       "  0%|          | 0/4 [00:00<?, ?it/s]"
      ]
     },
     "metadata": {},
     "output_type": "display_data"
    },
    {
     "data": {
      "application/vnd.jupyter.widget-view+json": {
       "model_id": "",
       "version_major": 2,
       "version_minor": 0
      },
      "text/plain": [
       "  0%|          | 0/113 [00:00<?, ?it/s]"
      ]
     },
     "metadata": {},
     "output_type": "display_data"
    },
    {
     "data": {
      "application/vnd.jupyter.widget-view+json": {
       "model_id": "",
       "version_major": 2,
       "version_minor": 0
      },
      "text/plain": [
       "  0%|          | 0/5 [00:00<?, ?it/s]"
      ]
     },
     "metadata": {},
     "output_type": "display_data"
    },
    {
     "data": {
      "application/vnd.jupyter.widget-view+json": {
       "model_id": "",
       "version_major": 2,
       "version_minor": 0
      },
      "text/plain": [
       "  0%|          | 0/125 [00:00<?, ?it/s]"
      ]
     },
     "metadata": {},
     "output_type": "display_data"
    },
    {
     "name": "stderr",
     "output_type": "stream",
     "text": [
      "/home/ammar/MultimodalEngagement/notebooks/../src/models/multimodal_fusion.py:67: UserWarning: To copy construct from a tensor, it is recommended to use sourceTensor.clone().detach() or sourceTensor.clone().detach().requires_grad_(True), rather than torch.tensor(sourceTensor).\n",
      "  criterion = nn.BCEWithLogitsLoss(pos_weight=torch.tensor(pos_weight).to(device))\n"
     ]
    },
    {
     "data": {
      "application/vnd.jupyter.widget-view+json": {
       "model_id": "8b0fec9bdf4b4387b353c7bb88c513b8",
       "version_major": 2,
       "version_minor": 0
      },
      "text/plain": [
       "Epochs:   0%|          | 0/100 [00:00<?, ?it/s]"
      ]
     },
     "metadata": {},
     "output_type": "display_data"
    },
    {
     "name": "stdout",
     "output_type": "stream",
     "text": [
      "Epoch 1/100:\n",
      "Train Loss: 0.3807, Train Acc: 0.4395\n",
      "Val Loss: 0.3719, Val Acc: 0.3274\n",
      "New best model saved!\n",
      "Epoch 2/100:\n",
      "Train Loss: 0.3684, Train Acc: 0.6583\n",
      "Val Loss: 0.3762, Val Acc: 0.6991\n",
      "Epoch 3/100:\n",
      "Train Loss: 0.3624, Train Acc: 0.5547\n",
      "Val Loss: 0.3796, Val Acc: 0.3540\n",
      "Epoch 4/100:\n",
      "Train Loss: 0.3364, Train Acc: 0.3935\n",
      "Val Loss: 0.3602, Val Acc: 0.4248\n",
      "New best model saved!\n",
      "Epoch 5/100:\n",
      "Train Loss: 0.3286, Train Acc: 0.6084\n",
      "Val Loss: 0.3734, Val Acc: 0.6991\n",
      "Epoch 6/100:\n",
      "Train Loss: 0.3348, Train Acc: 0.7044\n",
      "Val Loss: 0.3717, Val Acc: 0.6991\n",
      "Epoch 7/100:\n",
      "Train Loss: 0.3612, Train Acc: 0.6718\n",
      "Val Loss: 0.3610, Val Acc: 0.6549\n",
      "Epoch 8/100:\n",
      "Train Loss: 0.3413, Train Acc: 0.4914\n",
      "Val Loss: 0.3638, Val Acc: 0.3894\n",
      "Epoch 9/100:\n",
      "Train Loss: 0.3495, Train Acc: 0.3992\n",
      "Val Loss: 0.3492, Val Acc: 0.4779\n",
      "New best model saved!\n",
      "Epoch 10/100:\n",
      "Train Loss: 0.3795, Train Acc: 0.6123\n",
      "Val Loss: 0.3507, Val Acc: 0.6460\n",
      "Epoch 11/100:\n",
      "Train Loss: 0.3494, Train Acc: 0.4472\n",
      "Val Loss: 0.3819, Val Acc: 0.3717\n",
      "Epoch 12/100:\n",
      "Train Loss: 0.3536, Train Acc: 0.4242\n",
      "Val Loss: 0.3493, Val Acc: 0.5575\n",
      "Epoch 13/100:\n",
      "Train Loss: 0.3361, Train Acc: 0.5969\n",
      "Val Loss: 0.3483, Val Acc: 0.5929\n",
      "New best model saved!\n",
      "Epoch 14/100:\n",
      "Train Loss: 0.3341, Train Acc: 0.6276\n",
      "Val Loss: 0.3468, Val Acc: 0.6018\n",
      "New best model saved!\n",
      "Epoch 15/100:\n",
      "Train Loss: 0.3151, Train Acc: 0.6507\n",
      "Val Loss: 0.3418, Val Acc: 0.6372\n",
      "New best model saved!\n",
      "Epoch 16/100:\n",
      "Train Loss: 0.3494, Train Acc: 0.6987\n",
      "Val Loss: 0.3456, Val Acc: 0.6991\n",
      "Epoch 17/100:\n",
      "Train Loss: 0.3173, Train Acc: 0.6641\n",
      "Val Loss: 0.3329, Val Acc: 0.5929\n",
      "New best model saved!\n",
      "Epoch 18/100:\n",
      "Train Loss: 0.3425, Train Acc: 0.6161\n",
      "Val Loss: 0.3329, Val Acc: 0.6195\n",
      "New best model saved!\n",
      "Epoch 19/100:\n",
      "Train Loss: 0.3491, Train Acc: 0.4319\n",
      "Val Loss: 0.3499, Val Acc: 0.4425\n",
      "Epoch 20/100:\n",
      "Train Loss: 0.3376, Train Acc: 0.5106\n",
      "Val Loss: 0.3373, Val Acc: 0.5841\n",
      "Epoch 21/100:\n",
      "Train Loss: 0.3190, Train Acc: 0.6449\n",
      "Val Loss: 0.3345, Val Acc: 0.6283\n",
      "Epoch 22/100:\n",
      "Train Loss: 0.3327, Train Acc: 0.7006\n",
      "Val Loss: 0.3341, Val Acc: 0.6106\n",
      "Epoch 23/100:\n",
      "Train Loss: 0.3307, Train Acc: 0.5566\n",
      "Val Loss: 0.3398, Val Acc: 0.4425\n",
      "Epoch 24/100:\n",
      "Train Loss: 0.3199, Train Acc: 0.5547\n",
      "Val Loss: 0.3336, Val Acc: 0.6195\n",
      "Epoch 25/100:\n",
      "Train Loss: 0.3207, Train Acc: 0.7083\n",
      "Val Loss: 0.3440, Val Acc: 0.6637\n",
      "Epoch 26/100:\n",
      "Train Loss: 0.3190, Train Acc: 0.6891\n",
      "Val Loss: 0.3410, Val Acc: 0.6018\n",
      "Epoch 27/100:\n",
      "Train Loss: 0.3185, Train Acc: 0.7006\n",
      "Val Loss: 0.3430, Val Acc: 0.6018\n",
      "Epoch 28/100:\n",
      "Train Loss: 0.3211, Train Acc: 0.6852\n",
      "Val Loss: 0.3423, Val Acc: 0.5752\n",
      "Early stopping triggered after 28 epochs!\n",
      "Loaded best model from ../results/models/0.pth\n",
      "Running Experiment on Fold 1\n"
     ]
    },
    {
     "data": {
      "application/vnd.jupyter.widget-view+json": {
       "model_id": "",
       "version_major": 2,
       "version_minor": 0
      },
      "text/plain": [
       "  0%|          | 0/25 [00:00<?, ?it/s]"
      ]
     },
     "metadata": {},
     "output_type": "display_data"
    },
    {
     "data": {
      "application/vnd.jupyter.widget-view+json": {
       "model_id": "",
       "version_major": 2,
       "version_minor": 0
      },
      "text/plain": [
       "  0%|          | 0/593 [00:00<?, ?it/s]"
      ]
     },
     "metadata": {},
     "output_type": "display_data"
    },
    {
     "data": {
      "application/vnd.jupyter.widget-view+json": {
       "model_id": "",
       "version_major": 2,
       "version_minor": 0
      },
      "text/plain": [
       "  0%|          | 0/3 [00:00<?, ?it/s]"
      ]
     },
     "metadata": {},
     "output_type": "display_data"
    },
    {
     "data": {
      "application/vnd.jupyter.widget-view+json": {
       "model_id": "",
       "version_major": 2,
       "version_minor": 0
      },
      "text/plain": [
       "  0%|          | 0/74 [00:00<?, ?it/s]"
      ]
     },
     "metadata": {},
     "output_type": "display_data"
    },
    {
     "name": "stdout",
     "output_type": "stream",
     "text": [
      "Participant 407 is missing at least one modality (EYE)\n"
     ]
    },
    {
     "data": {
      "application/vnd.jupyter.widget-view+json": {
       "model_id": "",
       "version_major": 2,
       "version_minor": 0
      },
      "text/plain": [
       "  0%|          | 0/5 [00:00<?, ?it/s]"
      ]
     },
     "metadata": {},
     "output_type": "display_data"
    },
    {
     "data": {
      "application/vnd.jupyter.widget-view+json": {
       "model_id": "",
       "version_major": 2,
       "version_minor": 0
      },
      "text/plain": [
       "  0%|          | 0/92 [00:00<?, ?it/s]"
      ]
     },
     "metadata": {},
     "output_type": "display_data"
    },
    {
     "name": "stderr",
     "output_type": "stream",
     "text": [
      "/home/ammar/MultimodalEngagement/notebooks/../src/models/multimodal_fusion.py:67: UserWarning: To copy construct from a tensor, it is recommended to use sourceTensor.clone().detach() or sourceTensor.clone().detach().requires_grad_(True), rather than torch.tensor(sourceTensor).\n",
      "  criterion = nn.BCEWithLogitsLoss(pos_weight=torch.tensor(pos_weight).to(device))\n"
     ]
    },
    {
     "data": {
      "application/vnd.jupyter.widget-view+json": {
       "model_id": "423cfa12d726497792e4e8d54e9bb4eb",
       "version_major": 2,
       "version_minor": 0
      },
      "text/plain": [
       "Epochs:   0%|          | 0/100 [00:00<?, ?it/s]"
      ]
     },
     "metadata": {},
     "output_type": "display_data"
    },
    {
     "name": "stdout",
     "output_type": "stream",
     "text": [
      "Epoch 1/100:\n",
      "Train Loss: 0.4266, Train Acc: 0.3575\n",
      "Val Loss: 0.3752, Val Acc: 0.2297\n",
      "New best model saved!\n",
      "Epoch 2/100:\n",
      "Train Loss: 0.3781, Train Acc: 0.5481\n",
      "Val Loss: 0.3773, Val Acc: 0.6351\n",
      "Epoch 3/100:\n",
      "Train Loss: 0.3682, Train Acc: 0.6627\n",
      "Val Loss: 0.3801, Val Acc: 0.4730\n",
      "Epoch 4/100:\n",
      "Train Loss: 0.3938, Train Acc: 0.5649\n",
      "Val Loss: 0.3786, Val Acc: 0.3108\n",
      "Epoch 5/100:\n",
      "Train Loss: 0.3795, Train Acc: 0.5025\n",
      "Val Loss: 0.3805, Val Acc: 0.4189\n",
      "Epoch 6/100:\n",
      "Train Loss: 0.3812, Train Acc: 0.6206\n",
      "Val Loss: 0.3766, Val Acc: 0.3108\n",
      "Epoch 7/100:\n",
      "Train Loss: 0.3740, Train Acc: 0.6273\n",
      "Val Loss: 0.3778, Val Acc: 0.5135\n",
      "Epoch 8/100:\n",
      "Train Loss: 0.3696, Train Acc: 0.6307\n",
      "Val Loss: 0.3827, Val Acc: 0.7432\n",
      "Epoch 9/100:\n",
      "Train Loss: 0.3742, Train Acc: 0.7032\n",
      "Val Loss: 0.3772, Val Acc: 0.6892\n",
      "Epoch 10/100:\n",
      "Train Loss: 0.3697, Train Acc: 0.6223\n",
      "Val Loss: 0.3739, Val Acc: 0.3649\n",
      "New best model saved!\n",
      "Epoch 11/100:\n",
      "Train Loss: 0.3618, Train Acc: 0.5295\n",
      "Val Loss: 0.3803, Val Acc: 0.4054\n",
      "Epoch 12/100:\n",
      "Train Loss: 0.3680, Train Acc: 0.6847\n",
      "Val Loss: 0.4000, Val Acc: 0.7838\n",
      "Epoch 13/100:\n",
      "Train Loss: 0.3643, Train Acc: 0.6341\n",
      "Val Loss: 0.3738, Val Acc: 0.3243\n",
      "New best model saved!\n",
      "Epoch 14/100:\n",
      "Train Loss: 0.3706, Train Acc: 0.6054\n",
      "Val Loss: 0.3805, Val Acc: 0.6216\n",
      "Epoch 15/100:\n",
      "Train Loss: 0.3678, Train Acc: 0.6037\n",
      "Val Loss: 0.3666, Val Acc: 0.3514\n",
      "New best model saved!\n",
      "Epoch 16/100:\n",
      "Train Loss: 0.3781, Train Acc: 0.5599\n",
      "Val Loss: 0.3703, Val Acc: 0.4054\n",
      "Epoch 17/100:\n",
      "Train Loss: 0.3632, Train Acc: 0.4823\n",
      "Val Loss: 0.3664, Val Acc: 0.3243\n",
      "New best model saved!\n",
      "Epoch 18/100:\n",
      "Train Loss: 0.3720, Train Acc: 0.6492\n",
      "Val Loss: 0.3881, Val Acc: 0.7297\n",
      "Epoch 19/100:\n",
      "Train Loss: 0.3655, Train Acc: 0.5750\n",
      "Val Loss: 0.3628, Val Acc: 0.3378\n",
      "New best model saved!\n",
      "Epoch 20/100:\n",
      "Train Loss: 0.3580, Train Acc: 0.6290\n",
      "Val Loss: 0.4028, Val Acc: 0.7703\n",
      "Epoch 21/100:\n",
      "Train Loss: 0.3527, Train Acc: 0.7403\n",
      "Val Loss: 0.3782, Val Acc: 0.5405\n",
      "Epoch 22/100:\n",
      "Train Loss: 0.3507, Train Acc: 0.6290\n",
      "Val Loss: 0.3706, Val Acc: 0.5135\n",
      "Epoch 23/100:\n",
      "Train Loss: 0.3637, Train Acc: 0.7049\n",
      "Val Loss: 0.3735, Val Acc: 0.4459\n",
      "Epoch 24/100:\n",
      "Train Loss: 0.3492, Train Acc: 0.5245\n",
      "Val Loss: 0.3711, Val Acc: 0.3649\n",
      "Epoch 25/100:\n",
      "Train Loss: 0.3582, Train Acc: 0.6914\n",
      "Val Loss: 0.3762, Val Acc: 0.4459\n",
      "Epoch 26/100:\n",
      "Train Loss: 0.3561, Train Acc: 0.5447\n",
      "Val Loss: 0.3794, Val Acc: 0.4189\n",
      "Epoch 27/100:\n",
      "Train Loss: 0.3506, Train Acc: 0.6863\n",
      "Val Loss: 0.4007, Val Acc: 0.5946\n",
      "Epoch 28/100:\n",
      "Train Loss: 0.3484, Train Acc: 0.6728\n",
      "Val Loss: 0.3815, Val Acc: 0.4595\n",
      "Epoch 29/100:\n",
      "Train Loss: 0.3575, Train Acc: 0.6965\n",
      "Val Loss: 0.3920, Val Acc: 0.6351\n",
      "Early stopping triggered after 29 epochs!\n",
      "Loaded best model from ../results/models/1.pth\n",
      "Running Experiment on Fold 2\n",
      "Participant 407 is missing at least one modality (EYE)\n"
     ]
    },
    {
     "data": {
      "application/vnd.jupyter.widget-view+json": {
       "model_id": "",
       "version_major": 2,
       "version_minor": 0
      },
      "text/plain": [
       "  0%|          | 0/23 [00:00<?, ?it/s]"
      ]
     },
     "metadata": {},
     "output_type": "display_data"
    },
    {
     "data": {
      "application/vnd.jupyter.widget-view+json": {
       "model_id": "",
       "version_major": 2,
       "version_minor": 0
      },
      "text/plain": [
       "  0%|          | 0/501 [00:00<?, ?it/s]"
      ]
     },
     "metadata": {},
     "output_type": "display_data"
    },
    {
     "data": {
      "application/vnd.jupyter.widget-view+json": {
       "model_id": "",
       "version_major": 2,
       "version_minor": 0
      },
      "text/plain": [
       "  0%|          | 0/4 [00:00<?, ?it/s]"
      ]
     },
     "metadata": {},
     "output_type": "display_data"
    },
    {
     "data": {
      "application/vnd.jupyter.widget-view+json": {
       "model_id": "",
       "version_major": 2,
       "version_minor": 0
      },
      "text/plain": [
       "  0%|          | 0/103 [00:00<?, ?it/s]"
      ]
     },
     "metadata": {},
     "output_type": "display_data"
    },
    {
     "data": {
      "application/vnd.jupyter.widget-view+json": {
       "model_id": "",
       "version_major": 2,
       "version_minor": 0
      },
      "text/plain": [
       "  0%|          | 0/6 [00:00<?, ?it/s]"
      ]
     },
     "metadata": {},
     "output_type": "display_data"
    },
    {
     "data": {
      "application/vnd.jupyter.widget-view+json": {
       "model_id": "",
       "version_major": 2,
       "version_minor": 0
      },
      "text/plain": [
       "  0%|          | 0/155 [00:00<?, ?it/s]"
      ]
     },
     "metadata": {},
     "output_type": "display_data"
    },
    {
     "name": "stderr",
     "output_type": "stream",
     "text": [
      "/home/ammar/MultimodalEngagement/notebooks/../src/models/multimodal_fusion.py:67: UserWarning: To copy construct from a tensor, it is recommended to use sourceTensor.clone().detach() or sourceTensor.clone().detach().requires_grad_(True), rather than torch.tensor(sourceTensor).\n",
      "  criterion = nn.BCEWithLogitsLoss(pos_weight=torch.tensor(pos_weight).to(device))\n"
     ]
    },
    {
     "data": {
      "application/vnd.jupyter.widget-view+json": {
       "model_id": "b780d8fff7da4e81ae8b8ea77bdb81a3",
       "version_major": 2,
       "version_minor": 0
      },
      "text/plain": [
       "Epochs:   0%|          | 0/100 [00:00<?, ?it/s]"
      ]
     },
     "metadata": {},
     "output_type": "display_data"
    },
    {
     "name": "stdout",
     "output_type": "stream",
     "text": [
      "Epoch 1/100:\n",
      "Train Loss: 0.4136, Train Acc: 0.6287\n",
      "Val Loss: 0.3534, Val Acc: 0.5049\n",
      "New best model saved!\n",
      "Epoch 2/100:\n",
      "Train Loss: 0.3731, Train Acc: 0.4830\n",
      "Val Loss: 0.3482, Val Acc: 0.7282\n",
      "New best model saved!\n",
      "Epoch 3/100:\n",
      "Train Loss: 0.3685, Train Acc: 0.6108\n",
      "Val Loss: 0.3519, Val Acc: 0.5825\n",
      "Epoch 4/100:\n",
      "Train Loss: 0.3651, Train Acc: 0.6527\n",
      "Val Loss: 0.3474, Val Acc: 0.7864\n",
      "New best model saved!\n",
      "Epoch 5/100:\n",
      "Train Loss: 0.3659, Train Acc: 0.5888\n",
      "Val Loss: 0.3652, Val Acc: 0.4660\n",
      "Epoch 6/100:\n",
      "Train Loss: 0.3626, Train Acc: 0.6327\n",
      "Val Loss: 0.3518, Val Acc: 0.7864\n",
      "Epoch 7/100:\n",
      "Train Loss: 0.3553, Train Acc: 0.7066\n",
      "Val Loss: 0.3532, Val Acc: 0.7670\n",
      "Epoch 8/100:\n",
      "Train Loss: 0.3652, Train Acc: 0.6287\n",
      "Val Loss: 0.3586, Val Acc: 0.6214\n",
      "Epoch 9/100:\n",
      "Train Loss: 0.3644, Train Acc: 0.6507\n",
      "Val Loss: 0.3516, Val Acc: 0.7476\n",
      "Epoch 10/100:\n",
      "Train Loss: 0.3591, Train Acc: 0.6547\n",
      "Val Loss: 0.3546, Val Acc: 0.6893\n",
      "Epoch 11/100:\n",
      "Train Loss: 0.3505, Train Acc: 0.6846\n",
      "Val Loss: 0.3544, Val Acc: 0.7476\n",
      "Epoch 12/100:\n",
      "Train Loss: 0.3464, Train Acc: 0.7285\n",
      "Val Loss: 0.3547, Val Acc: 0.7573\n",
      "Epoch 13/100:\n",
      "Train Loss: 0.3470, Train Acc: 0.6607\n",
      "Val Loss: 0.3576, Val Acc: 0.7184\n",
      "Epoch 14/100:\n",
      "Train Loss: 0.3401, Train Acc: 0.7166\n",
      "Val Loss: 0.3647, Val Acc: 0.7573\n",
      "Early stopping triggered after 14 epochs!\n",
      "Loaded best model from ../results/models/2.pth\n",
      "Running Experiment on Fold 3\n",
      "Participant 407 is missing at least one modality (EYE)\n"
     ]
    },
    {
     "name": "stderr",
     "output_type": "stream",
     "text": [
      "/home/ammar/miniconda3/envs/torch/lib/python3.12/site-packages/sklearn/metrics/_classification.py:1531: UndefinedMetricWarning: Precision is ill-defined and being set to 0.0 in labels with no predicted samples. Use `zero_division` parameter to control this behavior.\n",
      "  _warn_prf(average, modifier, f\"{metric.capitalize()} is\", len(result))\n",
      "/home/ammar/miniconda3/envs/torch/lib/python3.12/site-packages/sklearn/metrics/_classification.py:1531: UndefinedMetricWarning: Precision is ill-defined and being set to 0.0 in labels with no predicted samples. Use `zero_division` parameter to control this behavior.\n",
      "  _warn_prf(average, modifier, f\"{metric.capitalize()} is\", len(result))\n",
      "/home/ammar/miniconda3/envs/torch/lib/python3.12/site-packages/sklearn/metrics/_classification.py:1531: UndefinedMetricWarning: Precision is ill-defined and being set to 0.0 in labels with no predicted samples. Use `zero_division` parameter to control this behavior.\n",
      "  _warn_prf(average, modifier, f\"{metric.capitalize()} is\", len(result))\n"
     ]
    },
    {
     "data": {
      "application/vnd.jupyter.widget-view+json": {
       "model_id": "",
       "version_major": 2,
       "version_minor": 0
      },
      "text/plain": [
       "  0%|          | 0/23 [00:00<?, ?it/s]"
      ]
     },
     "metadata": {},
     "output_type": "display_data"
    },
    {
     "data": {
      "application/vnd.jupyter.widget-view+json": {
       "model_id": "",
       "version_major": 2,
       "version_minor": 0
      },
      "text/plain": [
       "  0%|          | 0/521 [00:00<?, ?it/s]"
      ]
     },
     "metadata": {},
     "output_type": "display_data"
    },
    {
     "data": {
      "application/vnd.jupyter.widget-view+json": {
       "model_id": "",
       "version_major": 2,
       "version_minor": 0
      },
      "text/plain": [
       "  0%|          | 0/4 [00:00<?, ?it/s]"
      ]
     },
     "metadata": {},
     "output_type": "display_data"
    },
    {
     "data": {
      "application/vnd.jupyter.widget-view+json": {
       "model_id": "",
       "version_major": 2,
       "version_minor": 0
      },
      "text/plain": [
       "  0%|          | 0/104 [00:00<?, ?it/s]"
      ]
     },
     "metadata": {},
     "output_type": "display_data"
    },
    {
     "data": {
      "application/vnd.jupyter.widget-view+json": {
       "model_id": "",
       "version_major": 2,
       "version_minor": 0
      },
      "text/plain": [
       "  0%|          | 0/6 [00:00<?, ?it/s]"
      ]
     },
     "metadata": {},
     "output_type": "display_data"
    },
    {
     "data": {
      "application/vnd.jupyter.widget-view+json": {
       "model_id": "",
       "version_major": 2,
       "version_minor": 0
      },
      "text/plain": [
       "  0%|          | 0/134 [00:00<?, ?it/s]"
      ]
     },
     "metadata": {},
     "output_type": "display_data"
    },
    {
     "name": "stderr",
     "output_type": "stream",
     "text": [
      "/home/ammar/MultimodalEngagement/notebooks/../src/models/multimodal_fusion.py:67: UserWarning: To copy construct from a tensor, it is recommended to use sourceTensor.clone().detach() or sourceTensor.clone().detach().requires_grad_(True), rather than torch.tensor(sourceTensor).\n",
      "  criterion = nn.BCEWithLogitsLoss(pos_weight=torch.tensor(pos_weight).to(device))\n"
     ]
    },
    {
     "data": {
      "application/vnd.jupyter.widget-view+json": {
       "model_id": "2ce8f90ca4bf473a93b7fbd49845dd0e",
       "version_major": 2,
       "version_minor": 0
      },
      "text/plain": [
       "Epochs:   0%|          | 0/100 [00:00<?, ?it/s]"
      ]
     },
     "metadata": {},
     "output_type": "display_data"
    },
    {
     "name": "stdout",
     "output_type": "stream",
     "text": [
      "Epoch 1/100:\n",
      "Train Loss: 0.4192, Train Acc: 0.4511\n",
      "Val Loss: 0.4547, Val Acc: 0.1731\n",
      "New best model saved!\n",
      "Epoch 2/100:\n",
      "Train Loss: 0.3762, Train Acc: 0.5221\n",
      "Val Loss: 0.3524, Val Acc: 0.8269\n",
      "New best model saved!\n",
      "Epoch 3/100:\n",
      "Train Loss: 0.3970, Train Acc: 0.6526\n",
      "Val Loss: 0.3914, Val Acc: 0.2788\n",
      "Epoch 4/100:\n",
      "Train Loss: 0.3848, Train Acc: 0.3570\n",
      "Val Loss: 0.3850, Val Acc: 0.2885\n",
      "Epoch 5/100:\n",
      "Train Loss: 0.3748, Train Acc: 0.5278\n",
      "Val Loss: 0.3536, Val Acc: 0.4904\n",
      "Epoch 6/100:\n",
      "Train Loss: 0.3680, Train Acc: 0.4683\n",
      "Val Loss: 0.3891, Val Acc: 0.2788\n",
      "Epoch 7/100:\n",
      "Train Loss: 0.3614, Train Acc: 0.5144\n",
      "Val Loss: 0.3497, Val Acc: 0.4904\n",
      "New best model saved!\n",
      "Epoch 8/100:\n",
      "Train Loss: 0.3579, Train Acc: 0.6507\n",
      "Val Loss: 0.3329, Val Acc: 0.8269\n",
      "New best model saved!\n",
      "Epoch 9/100:\n",
      "Train Loss: 0.3954, Train Acc: 0.6622\n",
      "Val Loss: 0.3557, Val Acc: 0.3173\n",
      "Epoch 10/100:\n",
      "Train Loss: 0.3875, Train Acc: 0.3474\n",
      "Val Loss: 0.4837, Val Acc: 0.1827\n",
      "Epoch 11/100:\n",
      "Train Loss: 0.3711, Train Acc: 0.4280\n",
      "Val Loss: 0.3402, Val Acc: 0.5096\n",
      "Epoch 12/100:\n",
      "Train Loss: 0.3538, Train Acc: 0.5950\n",
      "Val Loss: 0.3430, Val Acc: 0.5096\n",
      "Epoch 13/100:\n",
      "Train Loss: 0.3748, Train Acc: 0.6200\n",
      "Val Loss: 0.3704, Val Acc: 0.3077\n",
      "Epoch 14/100:\n",
      "Train Loss: 0.3787, Train Acc: 0.3935\n",
      "Val Loss: 0.4279, Val Acc: 0.2404\n",
      "Epoch 15/100:\n",
      "Train Loss: 0.3608, Train Acc: 0.4971\n",
      "Val Loss: 0.3334, Val Acc: 0.6635\n",
      "Epoch 16/100:\n",
      "Train Loss: 0.4394, Train Acc: 0.6871\n",
      "Val Loss: 0.3297, Val Acc: 0.7404\n",
      "New best model saved!\n",
      "Epoch 17/100:\n",
      "Train Loss: 0.3752, Train Acc: 0.5067\n",
      "Val Loss: 0.3996, Val Acc: 0.2404\n",
      "Epoch 18/100:\n",
      "Train Loss: 0.3607, Train Acc: 0.4798\n",
      "Val Loss: 0.3257, Val Acc: 0.6827\n",
      "New best model saved!\n",
      "Epoch 19/100:\n",
      "Train Loss: 0.3584, Train Acc: 0.6699\n",
      "Val Loss: 0.3284, Val Acc: 0.6154\n",
      "Epoch 20/100:\n",
      "Train Loss: 0.3452, Train Acc: 0.6334\n",
      "Val Loss: 0.3339, Val Acc: 0.5673\n",
      "Epoch 21/100:\n",
      "Train Loss: 0.3741, Train Acc: 0.6411\n",
      "Val Loss: 0.3339, Val Acc: 0.5481\n",
      "Epoch 22/100:\n",
      "Train Loss: 0.3706, Train Acc: 0.6180\n",
      "Val Loss: 0.3370, Val Acc: 0.4231\n",
      "Epoch 23/100:\n",
      "Train Loss: 0.3652, Train Acc: 0.4779\n",
      "Val Loss: 0.3699, Val Acc: 0.2788\n",
      "Epoch 24/100:\n",
      "Train Loss: 0.3595, Train Acc: 0.4914\n",
      "Val Loss: 0.3428, Val Acc: 0.3173\n",
      "Epoch 25/100:\n",
      "Train Loss: 0.3590, Train Acc: 0.5873\n",
      "Val Loss: 0.3436, Val Acc: 0.4231\n",
      "Epoch 26/100:\n",
      "Train Loss: 0.3451, Train Acc: 0.6142\n",
      "Val Loss: 0.3488, Val Acc: 0.4135\n",
      "Epoch 27/100:\n",
      "Train Loss: 0.3716, Train Acc: 0.6257\n",
      "Val Loss: 0.3568, Val Acc: 0.3654\n",
      "Epoch 28/100:\n",
      "Train Loss: 0.3502, Train Acc: 0.5278\n",
      "Val Loss: 0.3708, Val Acc: 0.2885\n",
      "Early stopping triggered after 28 epochs!\n",
      "Loaded best model from ../results/models/3.pth\n",
      "Running Experiment on Fold 4\n",
      "Participant 407 is missing at least one modality (EYE)\n"
     ]
    },
    {
     "data": {
      "application/vnd.jupyter.widget-view+json": {
       "model_id": "",
       "version_major": 2,
       "version_minor": 0
      },
      "text/plain": [
       "  0%|          | 0/24 [00:00<?, ?it/s]"
      ]
     },
     "metadata": {},
     "output_type": "display_data"
    },
    {
     "data": {
      "application/vnd.jupyter.widget-view+json": {
       "model_id": "",
       "version_major": 2,
       "version_minor": 0
      },
      "text/plain": [
       "  0%|          | 0/561 [00:00<?, ?it/s]"
      ]
     },
     "metadata": {},
     "output_type": "display_data"
    },
    {
     "data": {
      "application/vnd.jupyter.widget-view+json": {
       "model_id": "",
       "version_major": 2,
       "version_minor": 0
      },
      "text/plain": [
       "  0%|          | 0/4 [00:00<?, ?it/s]"
      ]
     },
     "metadata": {},
     "output_type": "display_data"
    },
    {
     "data": {
      "application/vnd.jupyter.widget-view+json": {
       "model_id": "",
       "version_major": 2,
       "version_minor": 0
      },
      "text/plain": [
       "  0%|          | 0/91 [00:00<?, ?it/s]"
      ]
     },
     "metadata": {},
     "output_type": "display_data"
    },
    {
     "data": {
      "application/vnd.jupyter.widget-view+json": {
       "model_id": "",
       "version_major": 2,
       "version_minor": 0
      },
      "text/plain": [
       "  0%|          | 0/5 [00:00<?, ?it/s]"
      ]
     },
     "metadata": {},
     "output_type": "display_data"
    },
    {
     "data": {
      "application/vnd.jupyter.widget-view+json": {
       "model_id": "",
       "version_major": 2,
       "version_minor": 0
      },
      "text/plain": [
       "  0%|          | 0/107 [00:00<?, ?it/s]"
      ]
     },
     "metadata": {},
     "output_type": "display_data"
    },
    {
     "name": "stderr",
     "output_type": "stream",
     "text": [
      "/home/ammar/MultimodalEngagement/notebooks/../src/models/multimodal_fusion.py:67: UserWarning: To copy construct from a tensor, it is recommended to use sourceTensor.clone().detach() or sourceTensor.clone().detach().requires_grad_(True), rather than torch.tensor(sourceTensor).\n",
      "  criterion = nn.BCEWithLogitsLoss(pos_weight=torch.tensor(pos_weight).to(device))\n"
     ]
    },
    {
     "data": {
      "application/vnd.jupyter.widget-view+json": {
       "model_id": "ebfd7130e63842b98bc4570c0ecc41d0",
       "version_major": 2,
       "version_minor": 0
      },
      "text/plain": [
       "Epochs:   0%|          | 0/100 [00:00<?, ?it/s]"
      ]
     },
     "metadata": {},
     "output_type": "display_data"
    },
    {
     "name": "stdout",
     "output_type": "stream",
     "text": [
      "Epoch 1/100:\n",
      "Train Loss: 0.4063, Train Acc: 0.6435\n",
      "Val Loss: 0.3706, Val Acc: 0.7473\n",
      "New best model saved!\n",
      "Epoch 2/100:\n",
      "Train Loss: 0.4141, Train Acc: 0.4617\n",
      "Val Loss: 0.3684, Val Acc: 0.7802\n",
      "New best model saved!\n",
      "Epoch 3/100:\n",
      "Train Loss: 0.4017, Train Acc: 0.5508\n",
      "Val Loss: 0.3687, Val Acc: 0.6923\n",
      "Epoch 4/100:\n",
      "Train Loss: 0.3987, Train Acc: 0.5811\n",
      "Val Loss: 0.3653, Val Acc: 0.7802\n",
      "New best model saved!\n",
      "Epoch 5/100:\n",
      "Train Loss: 0.3993, Train Acc: 0.6114\n",
      "Val Loss: 0.3633, Val Acc: 0.7253\n",
      "New best model saved!\n",
      "Epoch 6/100:\n",
      "Train Loss: 0.4051, Train Acc: 0.6524\n",
      "Val Loss: 0.3611, Val Acc: 0.7253\n",
      "New best model saved!\n",
      "Epoch 7/100:\n",
      "Train Loss: 0.4016, Train Acc: 0.5383\n",
      "Val Loss: 0.3594, Val Acc: 0.7582\n",
      "New best model saved!\n",
      "Epoch 8/100:\n",
      "Train Loss: 0.3884, Train Acc: 0.6096\n",
      "Val Loss: 0.3601, Val Acc: 0.7143\n",
      "Epoch 9/100:\n",
      "Train Loss: 0.3846, Train Acc: 0.6310\n",
      "Val Loss: 0.3600, Val Acc: 0.7692\n",
      "Epoch 10/100:\n",
      "Train Loss: 0.3858, Train Acc: 0.6114\n",
      "Val Loss: 0.3567, Val Acc: 0.7802\n",
      "New best model saved!\n",
      "Epoch 11/100:\n",
      "Train Loss: 0.3857, Train Acc: 0.6863\n",
      "Val Loss: 0.3590, Val Acc: 0.7802\n",
      "Epoch 12/100:\n",
      "Train Loss: 0.3845, Train Acc: 0.6185\n",
      "Val Loss: 0.3549, Val Acc: 0.7363\n",
      "New best model saved!\n",
      "Epoch 13/100:\n",
      "Train Loss: 0.3831, Train Acc: 0.6542\n",
      "Val Loss: 0.3562, Val Acc: 0.7802\n",
      "Epoch 14/100:\n",
      "Train Loss: 0.3758, Train Acc: 0.6453\n",
      "Val Loss: 0.3609, Val Acc: 0.4725\n",
      "Epoch 15/100:\n",
      "Train Loss: 0.3834, Train Acc: 0.5045\n",
      "Val Loss: 0.3565, Val Acc: 0.7912\n",
      "Epoch 16/100:\n",
      "Train Loss: 0.3770, Train Acc: 0.7344\n",
      "Val Loss: 0.3645, Val Acc: 0.7692\n",
      "Epoch 17/100:\n",
      "Train Loss: 0.3781, Train Acc: 0.5989\n",
      "Val Loss: 0.3621, Val Acc: 0.5714\n",
      "Epoch 18/100:\n",
      "Train Loss: 0.3690, Train Acc: 0.6667\n",
      "Val Loss: 0.3728, Val Acc: 0.7802\n",
      "Epoch 19/100:\n",
      "Train Loss: 0.3741, Train Acc: 0.6542\n",
      "Val Loss: 0.3655, Val Acc: 0.5714\n",
      "Epoch 20/100:\n",
      "Train Loss: 0.3678, Train Acc: 0.6720\n",
      "Val Loss: 0.3802, Val Acc: 0.8022\n",
      "Epoch 21/100:\n",
      "Train Loss: 0.3646, Train Acc: 0.7130\n",
      "Val Loss: 0.3680, Val Acc: 0.6154\n",
      "Epoch 22/100:\n",
      "Train Loss: 0.3632, Train Acc: 0.6221\n",
      "Val Loss: 0.3741, Val Acc: 0.7363\n",
      "Early stopping triggered after 22 epochs!\n",
      "Loaded best model from ../results/models/4.pth\n",
      "Running Experiment on Fold 5\n",
      "Participant 407 is missing at least one modality (EYE)\n"
     ]
    },
    {
     "data": {
      "application/vnd.jupyter.widget-view+json": {
       "model_id": "",
       "version_major": 2,
       "version_minor": 0
      },
      "text/plain": [
       "  0%|          | 0/23 [00:00<?, ?it/s]"
      ]
     },
     "metadata": {},
     "output_type": "display_data"
    },
    {
     "data": {
      "application/vnd.jupyter.widget-view+json": {
       "model_id": "",
       "version_major": 2,
       "version_minor": 0
      },
      "text/plain": [
       "  0%|          | 0/517 [00:00<?, ?it/s]"
      ]
     },
     "metadata": {},
     "output_type": "display_data"
    },
    {
     "data": {
      "application/vnd.jupyter.widget-view+json": {
       "model_id": "f9e48401b2a140c9b2bae1270403f6af",
       "version_major": 2,
       "version_minor": 0
      },
      "text/plain": [
       "  0%|          | 0/4 [00:00<?, ?it/s]"
      ]
     },
     "metadata": {},
     "output_type": "display_data"
    },
    {
     "data": {
      "application/vnd.jupyter.widget-view+json": {
       "model_id": "55ebe1942c494e7f931fbdb2d6863a09",
       "version_major": 2,
       "version_minor": 0
      },
      "text/plain": [
       "  0%|          | 0/96 [00:00<?, ?it/s]"
      ]
     },
     "metadata": {},
     "output_type": "display_data"
    },
    {
     "data": {
      "application/vnd.jupyter.widget-view+json": {
       "model_id": "634a975a841c44b19aea2eb16cca8ae1",
       "version_major": 2,
       "version_minor": 0
      },
      "text/plain": [
       "  0%|          | 0/6 [00:00<?, ?it/s]"
      ]
     },
     "metadata": {},
     "output_type": "display_data"
    },
    {
     "data": {
      "application/vnd.jupyter.widget-view+json": {
       "model_id": "ff659fd74ca146a2be251a91dd7f264d",
       "version_major": 2,
       "version_minor": 0
      },
      "text/plain": [
       "  0%|          | 0/146 [00:00<?, ?it/s]"
      ]
     },
     "metadata": {},
     "output_type": "display_data"
    },
    {
     "name": "stderr",
     "output_type": "stream",
     "text": [
      "/home/ammar/MultimodalEngagement/notebooks/../src/models/multimodal_fusion.py:67: UserWarning: To copy construct from a tensor, it is recommended to use sourceTensor.clone().detach() or sourceTensor.clone().detach().requires_grad_(True), rather than torch.tensor(sourceTensor).\n",
      "  criterion = nn.BCEWithLogitsLoss(pos_weight=torch.tensor(pos_weight).to(device))\n"
     ]
    },
    {
     "data": {
      "application/vnd.jupyter.widget-view+json": {
       "model_id": "4ad0984d80be4608bdefa75b606a6232",
       "version_major": 2,
       "version_minor": 0
      },
      "text/plain": [
       "Epochs:   0%|          | 0/100 [00:00<?, ?it/s]"
      ]
     },
     "metadata": {},
     "output_type": "display_data"
    },
    {
     "name": "stdout",
     "output_type": "stream",
     "text": [
      "Epoch 1/100:\n",
      "Train Loss: 0.5501, Train Acc: 0.5474\n",
      "Val Loss: 0.3678, Val Acc: 0.7292\n",
      "New best model saved!\n",
      "Epoch 2/100:\n",
      "Train Loss: 0.3985, Train Acc: 0.4952\n",
      "Val Loss: 0.4026, Val Acc: 0.3333\n",
      "Epoch 3/100:\n",
      "Train Loss: 0.4394, Train Acc: 0.4449\n",
      "Val Loss: 0.3665, Val Acc: 0.7292\n",
      "New best model saved!\n",
      "Epoch 4/100:\n",
      "Train Loss: 0.4406, Train Acc: 0.6015\n",
      "Val Loss: 0.3713, Val Acc: 0.7812\n",
      "Epoch 5/100:\n",
      "Train Loss: 0.4420, Train Acc: 0.3791\n",
      "Val Loss: 0.3919, Val Acc: 0.3750\n",
      "Epoch 6/100:\n",
      "Train Loss: 0.4127, Train Acc: 0.5706\n",
      "Val Loss: 0.3780, Val Acc: 0.7292\n",
      "Epoch 7/100:\n",
      "Train Loss: 0.4465, Train Acc: 0.6770\n",
      "Val Loss: 0.3674, Val Acc: 0.7396\n",
      "Epoch 8/100:\n",
      "Train Loss: 0.4025, Train Acc: 0.4720\n",
      "Val Loss: 0.3800, Val Acc: 0.4479\n",
      "Epoch 9/100:\n",
      "Train Loss: 0.4204, Train Acc: 0.5029\n",
      "Val Loss: 0.3673, Val Acc: 0.7396\n",
      "Epoch 10/100:\n",
      "Train Loss: 0.4032, Train Acc: 0.6054\n",
      "Val Loss: 0.3708, Val Acc: 0.7396\n",
      "Epoch 11/100:\n",
      "Train Loss: 0.3897, Train Acc: 0.5919\n",
      "Val Loss: 0.3725, Val Acc: 0.7292\n",
      "Epoch 12/100:\n",
      "Train Loss: 0.3890, Train Acc: 0.6170\n",
      "Val Loss: 0.3700, Val Acc: 0.7396\n",
      "Epoch 13/100:\n",
      "Train Loss: 0.4170, Train Acc: 0.6209\n",
      "Val Loss: 0.3695, Val Acc: 0.7396\n",
      "Early stopping triggered after 13 epochs!\n",
      "Loaded best model from ../results/models/5.pth\n",
      "Running Experiment on Fold 6\n",
      "Participant 407 is missing at least one modality (EYE)\n"
     ]
    },
    {
     "data": {
      "application/vnd.jupyter.widget-view+json": {
       "model_id": "7fb62b020d074d499bfa5f5c1678bc8d",
       "version_major": 2,
       "version_minor": 0
      },
      "text/plain": [
       "  0%|          | 0/29 [00:00<?, ?it/s]"
      ]
     },
     "metadata": {},
     "output_type": "display_data"
    },
    {
     "data": {
      "application/vnd.jupyter.widget-view+json": {
       "model_id": "4a10308da81e4f8da8345e62934cde47",
       "version_major": 2,
       "version_minor": 0
      },
      "text/plain": [
       "  0%|          | 0/676 [00:00<?, ?it/s]"
      ]
     },
     "metadata": {},
     "output_type": "display_data"
    },
    {
     "data": {
      "application/vnd.jupyter.widget-view+json": {
       "model_id": "e017cc34bc204f23aabbfec909d611f1",
       "version_major": 2,
       "version_minor": 0
      },
      "text/plain": [
       "  0%|          | 0/4 [00:00<?, ?it/s]"
      ]
     },
     "metadata": {},
     "output_type": "display_data"
    },
    {
     "data": {
      "application/vnd.jupyter.widget-view+json": {
       "model_id": "b50b208cc9874d168e9bbe9960ca9e07",
       "version_major": 2,
       "version_minor": 0
      },
      "text/plain": [
       "  0%|          | 0/83 [00:00<?, ?it/s]"
      ]
     },
     "metadata": {},
     "output_type": "display_data"
    },
    {
     "data": {
      "application/vnd.jupyter.widget-view+json": {
       "model_id": "e242c34bdf21439085fdb79488892215",
       "version_major": 2,
       "version_minor": 0
      },
      "text/plain": [
       "  0%|          | 0/5 [00:00<?, ?it/s]"
      ]
     },
     "metadata": {},
     "output_type": "display_data"
    },
    {
     "data": {
      "application/vnd.jupyter.widget-view+json": {
       "model_id": "ed3bc6d4605b477496aa60c23c4bf7da",
       "version_major": 2,
       "version_minor": 0
      },
      "text/plain": [
       "  0%|          | 0/114 [00:00<?, ?it/s]"
      ]
     },
     "metadata": {},
     "output_type": "display_data"
    },
    {
     "name": "stderr",
     "output_type": "stream",
     "text": [
      "/home/ammar/MultimodalEngagement/notebooks/../src/models/multimodal_fusion.py:67: UserWarning: To copy construct from a tensor, it is recommended to use sourceTensor.clone().detach() or sourceTensor.clone().detach().requires_grad_(True), rather than torch.tensor(sourceTensor).\n",
      "  criterion = nn.BCEWithLogitsLoss(pos_weight=torch.tensor(pos_weight).to(device))\n"
     ]
    },
    {
     "data": {
      "application/vnd.jupyter.widget-view+json": {
       "model_id": "a4d262957e484dd7b76cf30dfda49203",
       "version_major": 2,
       "version_minor": 0
      },
      "text/plain": [
       "Epochs:   0%|          | 0/100 [00:00<?, ?it/s]"
      ]
     },
     "metadata": {},
     "output_type": "display_data"
    },
    {
     "name": "stdout",
     "output_type": "stream",
     "text": [
      "Epoch 1/100:\n",
      "Train Loss: 0.3817, Train Acc: 0.5636\n",
      "Val Loss: 0.4521, Val Acc: 0.6747\n",
      "New best model saved!\n",
      "Epoch 2/100:\n",
      "Train Loss: 0.3622, Train Acc: 0.5651\n",
      "Val Loss: 0.4400, Val Acc: 0.5783\n",
      "New best model saved!\n",
      "Epoch 3/100:\n",
      "Train Loss: 0.3631, Train Acc: 0.5651\n",
      "Val Loss: 0.4345, Val Acc: 0.4699\n",
      "New best model saved!\n",
      "Epoch 4/100:\n",
      "Train Loss: 0.3598, Train Acc: 0.5429\n",
      "Val Loss: 0.4590, Val Acc: 0.6627\n",
      "Epoch 5/100:\n",
      "Train Loss: 0.3477, Train Acc: 0.6834\n",
      "Val Loss: 0.4245, Val Acc: 0.4578\n",
      "New best model saved!\n",
      "Epoch 6/100:\n",
      "Train Loss: 0.3515, Train Acc: 0.5666\n",
      "Val Loss: 0.4342, Val Acc: 0.6024\n",
      "Epoch 7/100:\n",
      "Train Loss: 0.3544, Train Acc: 0.5651\n",
      "Val Loss: 0.4293, Val Acc: 0.5422\n",
      "Epoch 8/100:\n",
      "Train Loss: 0.3495, Train Acc: 0.6612\n",
      "Val Loss: 0.4237, Val Acc: 0.4940\n",
      "New best model saved!\n",
      "Epoch 9/100:\n",
      "Train Loss: 0.3502, Train Acc: 0.5607\n",
      "Val Loss: 0.4721, Val Acc: 0.6506\n",
      "Epoch 10/100:\n",
      "Train Loss: 0.3511, Train Acc: 0.5947\n",
      "Val Loss: 0.4192, Val Acc: 0.4819\n",
      "New best model saved!\n",
      "Epoch 11/100:\n",
      "Train Loss: 0.3534, Train Acc: 0.7101\n",
      "Val Loss: 0.4068, Val Acc: 0.4096\n",
      "New best model saved!\n",
      "Epoch 12/100:\n",
      "Train Loss: 0.3461, Train Acc: 0.4630\n",
      "Val Loss: 0.4553, Val Acc: 0.6386\n",
      "Epoch 13/100:\n",
      "Train Loss: 0.3448, Train Acc: 0.7396\n",
      "Val Loss: 0.4738, Val Acc: 0.6506\n",
      "Epoch 14/100:\n",
      "Train Loss: 0.3412, Train Acc: 0.6109\n",
      "Val Loss: 0.4493, Val Acc: 0.6386\n",
      "Epoch 15/100:\n",
      "Train Loss: 0.3316, Train Acc: 0.6494\n",
      "Val Loss: 0.4568, Val Acc: 0.6265\n",
      "Epoch 16/100:\n",
      "Train Loss: 0.3413, Train Acc: 0.6524\n",
      "Val Loss: 0.4649, Val Acc: 0.6386\n",
      "Epoch 17/100:\n",
      "Train Loss: 0.3332, Train Acc: 0.6893\n",
      "Val Loss: 0.4990, Val Acc: 0.6265\n",
      "Epoch 18/100:\n",
      "Train Loss: 0.3328, Train Acc: 0.6760\n",
      "Val Loss: 0.4134, Val Acc: 0.4819\n",
      "Epoch 19/100:\n",
      "Train Loss: 0.3314, Train Acc: 0.6953\n",
      "Val Loss: 0.4818, Val Acc: 0.6506\n",
      "Epoch 20/100:\n",
      "Train Loss: 0.3377, Train Acc: 0.5459\n",
      "Val Loss: 0.4986, Val Acc: 0.6506\n",
      "Epoch 21/100:\n",
      "Train Loss: 0.3252, Train Acc: 0.7456\n",
      "Val Loss: 0.4341, Val Acc: 0.5422\n",
      "Early stopping triggered after 21 epochs!\n",
      "Loaded best model from ../results/models/6.pth\n"
     ]
    }
   ],
   "source": [
    "splits_root = Path(\"../configs/splits\")\n",
    "reports = []\n",
    "for i, folder in enumerate(sorted(splits_root.glob(\"*/\"))):\n",
    "    print(f\"Running Experiment on Fold {i}\")\n",
    "    exp = MultimodalExperiment(folder / f\"0.csv\")\n",
    "    history = exp.run_training(best_model_path=f\"../results/models/{i}.pth\")\n",
    "    report = exp.evaluate_model().reset_index().rename(columns={\"index\": \"Metric\"})\n",
    "    report.to_csv(f\"../results/tables/{i}.csv\", index=None)\n",
    "    reports.append(report)"
   ]
  },
  {
   "cell_type": "code",
   "execution_count": 11,
   "id": "628d7856-2da9-4806-931a-092c830ce69d",
   "metadata": {
    "execution": {
     "iopub.execute_input": "2025-01-09T01:17:56.746245Z",
     "iopub.status.busy": "2025-01-09T01:17:56.746059Z",
     "iopub.status.idle": "2025-01-09T01:17:56.754887Z",
     "shell.execute_reply": "2025-01-09T01:17:56.754618Z",
     "shell.execute_reply.started": "2025-01-09T01:17:56.746231Z"
    }
   },
   "outputs": [
    {
     "name": "stdout",
     "output_type": "stream",
     "text": [
      "Accuracy: 0.6084334195261821 ± 0.09492814523402704\n",
      "ROC-AUC: 0.5182081426220945 ± 0.10994177206360134\n"
     ]
    },
    {
     "data": {
      "text/html": [
       "<div>\n",
       "<style scoped>\n",
       "    .dataframe tbody tr th:only-of-type {\n",
       "        vertical-align: middle;\n",
       "    }\n",
       "\n",
       "    .dataframe tbody tr th {\n",
       "        vertical-align: top;\n",
       "    }\n",
       "\n",
       "    .dataframe thead th {\n",
       "        text-align: right;\n",
       "    }\n",
       "</style>\n",
       "<table border=\"1\" class=\"dataframe\">\n",
       "  <thead>\n",
       "    <tr style=\"text-align: right;\">\n",
       "      <th></th>\n",
       "      <th>Low</th>\n",
       "      <th>High</th>\n",
       "      <th>Avg.</th>\n",
       "    </tr>\n",
       "    <tr>\n",
       "      <th>Metric</th>\n",
       "      <th></th>\n",
       "      <th></th>\n",
       "      <th></th>\n",
       "    </tr>\n",
       "  </thead>\n",
       "  <tbody>\n",
       "    <tr>\n",
       "      <th>precision</th>\n",
       "      <td>0.28 ± 0.2</td>\n",
       "      <td>0.73 ± 0.08</td>\n",
       "      <td>0.51 ± 0.11</td>\n",
       "    </tr>\n",
       "    <tr>\n",
       "      <th>recall</th>\n",
       "      <td>0.36 ± 0.24</td>\n",
       "      <td>0.69 ± 0.19</td>\n",
       "      <td>0.53 ± 0.09</td>\n",
       "    </tr>\n",
       "    <tr>\n",
       "      <th>f1-score</th>\n",
       "      <td>0.31 ± 0.22</td>\n",
       "      <td>0.7 ± 0.11</td>\n",
       "      <td>0.51 ± 0.1</td>\n",
       "    </tr>\n",
       "    <tr>\n",
       "      <th>support</th>\n",
       "      <td>36.14 ± 11.95</td>\n",
       "      <td>88.57 ± 20.45</td>\n",
       "      <td>124.71 ± 22.19</td>\n",
       "    </tr>\n",
       "  </tbody>\n",
       "</table>\n",
       "</div>"
      ],
      "text/plain": [
       "                     Low           High            Avg.\n",
       "Metric                                                 \n",
       "precision     0.28 ± 0.2    0.73 ± 0.08     0.51 ± 0.11\n",
       "recall       0.36 ± 0.24    0.69 ± 0.19     0.53 ± 0.09\n",
       "f1-score     0.31 ± 0.22     0.7 ± 0.11      0.51 ± 0.1\n",
       "support    36.14 ± 11.95  88.57 ± 20.45  124.71 ± 22.19"
      ]
     },
     "execution_count": 11,
     "metadata": {},
     "output_type": "execute_result"
    }
   ],
   "source": [
    "reports_df = pd.concat(reports)\n",
    "avg_report = reports_df.groupby(\"Metric\").mean()\n",
    "std_report = reports_df.groupby(\"Metric\").std()\n",
    "final_report = combine_avg_std_tables_latex(avg_report, std_report, low_col=\"Low\", high_col=\"High\")\n",
    "final_report"
   ]
  },
  {
   "cell_type": "code",
   "execution_count": 12,
   "id": "00a2fdfc-6e1a-4b46-bfe6-ad4097215e38",
   "metadata": {
    "execution": {
     "iopub.execute_input": "2025-01-09T01:19:39.465554Z",
     "iopub.status.busy": "2025-01-09T01:19:39.465320Z",
     "iopub.status.idle": "2025-01-09T01:19:39.468705Z",
     "shell.execute_reply": "2025-01-09T01:19:39.468327Z",
     "shell.execute_reply.started": "2025-01-09T01:19:39.465539Z"
    }
   },
   "outputs": [
    {
     "name": "stdout",
     "output_type": "stream",
     "text": [
      "                     Low           High            Avg.\n",
      "Metric                                                 \n",
      "precision     0.28 ± 0.2    0.73 ± 0.08     0.51 ± 0.11\n",
      "recall       0.36 ± 0.24    0.69 ± 0.19     0.53 ± 0.09\n",
      "f1-score     0.31 ± 0.22     0.7 ± 0.11      0.51 ± 0.1\n",
      "support    36.14 ± 11.95  88.57 ± 20.45  124.71 ± 22.19\n"
     ]
    }
   ],
   "source": [
    "print(final_report)"
   ]
  },
  {
   "cell_type": "code",
   "execution_count": null,
   "id": "f1dad54c-153f-47ef-b9ea-2a4997273552",
   "metadata": {},
   "outputs": [],
   "source": []
  }
 ],
 "metadata": {
  "kernelspec": {
   "display_name": "torch",
   "language": "python",
   "name": "torch"
  },
  "language_info": {
   "codemirror_mode": {
    "name": "ipython",
    "version": 3
   },
   "file_extension": ".py",
   "mimetype": "text/x-python",
   "name": "python",
   "nbconvert_exporter": "python",
   "pygments_lexer": "ipython3",
   "version": "3.12.2"
  }
 },
 "nbformat": 4,
 "nbformat_minor": 5
}
